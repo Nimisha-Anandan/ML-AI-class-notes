{
  "nbformat": 4,
  "nbformat_minor": 0,
  "metadata": {
    "colab": {
      "provenance": []
    },
    "kernelspec": {
      "name": "python3",
      "display_name": "Python 3"
    },
    "language_info": {
      "name": "python"
    },
    "accelerator": "GPU",
    "gpuClass": "standard"
  },
  "cells": [
    {
      "cell_type": "code",
      "execution_count": null,
      "metadata": {
        "id": "IJdOiF7nc1BF"
      },
      "outputs": [],
      "source": [
        "import numpy as np\n",
        "import pandas as pd"
      ]
    },
    {
      "cell_type": "code",
      "source": [
        "raw_text = open('/content/pg5200.txt', encoding='utf-8-sig').read()"
      ],
      "metadata": {
        "id": "H7OSuotjdTyG"
      },
      "execution_count": null,
      "outputs": []
    },
    {
      "cell_type": "code",
      "source": [
        "raw_text[:100]"
      ],
      "metadata": {
        "colab": {
          "base_uri": "https://localhost:8080/",
          "height": 35
        },
        "id": "hUuNBcopek_m",
        "outputId": "988e9c47-2c7e-470c-950c-ff6db7f4e135"
      },
      "execution_count": null,
      "outputs": [
        {
          "output_type": "execute_result",
          "data": {
            "text/plain": [
              "'The Project Gutenberg EBook of Metamorphosis, by Franz Kafka\\nTranslated by David Wyllie.\\n\\nThis eBook'"
            ],
            "application/vnd.google.colaboratory.intrinsic+json": {
              "type": "string"
            }
          },
          "metadata": {},
          "execution_count": 5
        }
      ]
    },
    {
      "cell_type": "code",
      "source": [
        "import re"
      ],
      "metadata": {
        "id": "NUQHV2oIf1NB"
      },
      "execution_count": null,
      "outputs": []
    },
    {
      "cell_type": "code",
      "source": [
        "final = re.sub(r'\\W+', ' ', raw_text).lower()"
      ],
      "metadata": {
        "id": "qRVduwfFgBte"
      },
      "execution_count": null,
      "outputs": []
    },
    {
      "cell_type": "code",
      "source": [
        "final[:100]"
      ],
      "metadata": {
        "colab": {
          "base_uri": "https://localhost:8080/",
          "height": 35
        },
        "id": "GcS5K1oXgj-w",
        "outputId": "86999aef-6a95-4c84-e56b-de4b6f5c8bda"
      },
      "execution_count": null,
      "outputs": [
        {
          "output_type": "execute_result",
          "data": {
            "text/plain": [
              "'the project gutenberg ebook of metamorphosis by franz kafka translated by david wyllie this ebook is'"
            ],
            "application/vnd.google.colaboratory.intrinsic+json": {
              "type": "string"
            }
          },
          "metadata": {},
          "execution_count": 8
        }
      ]
    },
    {
      "cell_type": "code",
      "source": [
        "import nltk\n",
        "nltk.download('punkt')"
      ],
      "metadata": {
        "colab": {
          "base_uri": "https://localhost:8080/"
        },
        "id": "EQZiRihFhWBE",
        "outputId": "39a9b3d1-b780-4c97-ec56-c0f15f974774"
      },
      "execution_count": null,
      "outputs": [
        {
          "output_type": "stream",
          "name": "stderr",
          "text": [
            "[nltk_data] Downloading package punkt to /root/nltk_data...\n",
            "[nltk_data]   Unzipping tokenizers/punkt.zip.\n"
          ]
        },
        {
          "output_type": "execute_result",
          "data": {
            "text/plain": [
              "True"
            ]
          },
          "metadata": {},
          "execution_count": 9
        }
      ]
    },
    {
      "cell_type": "code",
      "source": [
        "tokens = nltk.word_tokenize(final)"
      ],
      "metadata": {
        "id": "xxsQMzIFhY3I"
      },
      "execution_count": null,
      "outputs": []
    },
    {
      "cell_type": "code",
      "source": [
        "tokens[:10]"
      ],
      "metadata": {
        "colab": {
          "base_uri": "https://localhost:8080/"
        },
        "id": "4WtCzKzHh1u7",
        "outputId": "9b6e9cfa-92e4-4a53-c264-e02fc89f263a"
      },
      "execution_count": null,
      "outputs": [
        {
          "output_type": "execute_result",
          "data": {
            "text/plain": [
              "['the',\n",
              " 'project',\n",
              " 'gutenberg',\n",
              " 'ebook',\n",
              " 'of',\n",
              " 'metamorphosis',\n",
              " 'by',\n",
              " 'franz',\n",
              " 'kafka',\n",
              " 'translated']"
            ]
          },
          "metadata": {},
          "execution_count": 11
        }
      ]
    },
    {
      "cell_type": "code",
      "source": [
        "train_len = 3+1\n",
        "text_sequences = []\n",
        "for i in range(train_len,len(tokens)):\n",
        "    seq = tokens[i-train_len:i]\n",
        "    text_sequences.append(seq)"
      ],
      "metadata": {
        "id": "lJd9I8zzh0hv"
      },
      "execution_count": null,
      "outputs": []
    },
    {
      "cell_type": "code",
      "source": [
        "text_sequences[:5]"
      ],
      "metadata": {
        "colab": {
          "base_uri": "https://localhost:8080/"
        },
        "id": "hhfxHXOoiPqU",
        "outputId": "b2b2cf16-bbef-498e-dbc0-c30ceafad8a5"
      },
      "execution_count": null,
      "outputs": [
        {
          "output_type": "execute_result",
          "data": {
            "text/plain": [
              "[['the', 'project', 'gutenberg', 'ebook'],\n",
              " ['project', 'gutenberg', 'ebook', 'of'],\n",
              " ['gutenberg', 'ebook', 'of', 'metamorphosis'],\n",
              " ['ebook', 'of', 'metamorphosis', 'by'],\n",
              " ['of', 'metamorphosis', 'by', 'franz']]"
            ]
          },
          "metadata": {},
          "execution_count": 13
        }
      ]
    },
    {
      "cell_type": "code",
      "source": [
        "from keras.preprocessing.text import Tokenizer\n",
        "tokenizer = Tokenizer()\n",
        "tokenizer.fit_on_texts(text_sequences)\n",
        "sequences = tokenizer.texts_to_sequences(text_sequences) "
      ],
      "metadata": {
        "id": "v0AHAuhti7sN"
      },
      "execution_count": null,
      "outputs": []
    },
    {
      "cell_type": "code",
      "source": [
        "sequences[:5]"
      ],
      "metadata": {
        "colab": {
          "base_uri": "https://localhost:8080/"
        },
        "id": "Imh-x7VNjW1t",
        "outputId": "ec3fbe5f-f6da-422d-ea87-dc635f79eae3"
      },
      "execution_count": null,
      "outputs": [
        {
          "output_type": "execute_result",
          "data": {
            "text/plain": [
              "[[1, 47, 43, 286],\n",
              " [47, 43, 286, 5],\n",
              " [43, 286, 5, 511],\n",
              " [286, 5, 511, 56],\n",
              " [5, 511, 56, 680]]"
            ]
          },
          "metadata": {},
          "execution_count": 15
        }
      ]
    },
    {
      "cell_type": "code",
      "source": [
        "sequences = np.array(sequences)"
      ],
      "metadata": {
        "id": "_DDY-Dthkmx8"
      },
      "execution_count": null,
      "outputs": []
    },
    {
      "cell_type": "code",
      "source": [
        "train_inputs = sequences[:,:-1]\n",
        "train_targets = sequences[:,-1]"
      ],
      "metadata": {
        "id": "9ROzk_sYlF57"
      },
      "execution_count": null,
      "outputs": []
    },
    {
      "cell_type": "code",
      "source": [
        "train_inputs[:5]"
      ],
      "metadata": {
        "colab": {
          "base_uri": "https://localhost:8080/"
        },
        "id": "wRohEruMlj4-",
        "outputId": "b7033e57-0439-4102-ce5b-a246ea1cf0d0"
      },
      "execution_count": null,
      "outputs": [
        {
          "output_type": "execute_result",
          "data": {
            "text/plain": [
              "array([[  1,  47,  43],\n",
              "       [ 47,  43, 286],\n",
              "       [ 43, 286,   5],\n",
              "       [286,   5, 511],\n",
              "       [  5, 511,  56]])"
            ]
          },
          "metadata": {},
          "execution_count": 18
        }
      ]
    },
    {
      "cell_type": "code",
      "source": [
        "train_targets[:5]"
      ],
      "metadata": {
        "colab": {
          "base_uri": "https://localhost:8080/"
        },
        "id": "2bae36Bflx4-",
        "outputId": "46046532-8f75-492d-a300-569217075044"
      },
      "execution_count": null,
      "outputs": [
        {
          "output_type": "execute_result",
          "data": {
            "text/plain": [
              "array([286,   5, 511,  56, 680])"
            ]
          },
          "metadata": {},
          "execution_count": 19
        }
      ]
    },
    {
      "cell_type": "code",
      "source": [
        "len(tokenizer.word_index)"
      ],
      "metadata": {
        "colab": {
          "base_uri": "https://localhost:8080/"
        },
        "id": "rLLwlQSimFP1",
        "outputId": "e1a9b62a-90e0-4d67-a866-71755253ae6f"
      },
      "execution_count": null,
      "outputs": [
        {
          "output_type": "execute_result",
          "data": {
            "text/plain": [
              "3015"
            ]
          },
          "metadata": {},
          "execution_count": 20
        }
      ]
    },
    {
      "cell_type": "code",
      "source": [
        "seq_len = train_inputs.shape[1]\n",
        "vocabulary_size = len(tokenizer.word_index)+1"
      ],
      "metadata": {
        "id": "_BvmkFB9oPs9"
      },
      "execution_count": null,
      "outputs": []
    },
    {
      "cell_type": "code",
      "source": [
        "from keras.utils import to_categorical\n",
        "train_targets = to_categorical(train_targets, num_classes=vocabulary_size)"
      ],
      "metadata": {
        "id": "P9UtQkkNoMWU"
      },
      "execution_count": null,
      "outputs": []
    },
    {
      "cell_type": "code",
      "source": [
        "np.argmax(train_targets[1])"
      ],
      "metadata": {
        "colab": {
          "base_uri": "https://localhost:8080/"
        },
        "id": "zQq_olVKpEyT",
        "outputId": "f18b7be0-a517-4501-cf14-a7a4c1e101ea"
      },
      "execution_count": null,
      "outputs": [
        {
          "output_type": "execute_result",
          "data": {
            "text/plain": [
              "5"
            ]
          },
          "metadata": {},
          "execution_count": 23
        }
      ]
    },
    {
      "cell_type": "code",
      "source": [
        "from keras.layers import Dense, LSTM, Embedding\n",
        "from keras.layers import Dropout\n",
        "from keras.models import Sequential"
      ],
      "metadata": {
        "id": "wwhl2uoqp2Q2"
      },
      "execution_count": null,
      "outputs": []
    },
    {
      "cell_type": "code",
      "source": [
        "model = Sequential()\n",
        "model.add(Embedding(vocabulary_size, seq_len, input_length=seq_len))\n",
        "model.add(LSTM(50,return_sequences=True))\n",
        "model.add(LSTM(50))\n",
        "model.add(Dense(50,activation='relu'))\n",
        "model.add(Dense(vocabulary_size, activation='softmax'))"
      ],
      "metadata": {
        "id": "WHFhXslVqQZ2"
      },
      "execution_count": null,
      "outputs": []
    },
    {
      "cell_type": "code",
      "source": [
        "model.compile(loss='categorical_crossentropy', optimizer='adam', metrics=['accuracy'])"
      ],
      "metadata": {
        "id": "pUM4KYZQrsuC"
      },
      "execution_count": null,
      "outputs": []
    },
    {
      "cell_type": "code",
      "source": [
        "model.summary()"
      ],
      "metadata": {
        "colab": {
          "base_uri": "https://localhost:8080/"
        },
        "id": "5M-S9neQsZAR",
        "outputId": "830b68b3-e452-4efc-b013-831d0dc68ab4"
      },
      "execution_count": null,
      "outputs": [
        {
          "output_type": "stream",
          "name": "stdout",
          "text": [
            "Model: \"sequential\"\n",
            "_________________________________________________________________\n",
            " Layer (type)                Output Shape              Param #   \n",
            "=================================================================\n",
            " embedding (Embedding)       (None, 3, 3)              9048      \n",
            "                                                                 \n",
            " lstm (LSTM)                 (None, 3, 50)             10800     \n",
            "                                                                 \n",
            " lstm_1 (LSTM)               (None, 50)                20200     \n",
            "                                                                 \n",
            " dense (Dense)               (None, 50)                2550      \n",
            "                                                                 \n",
            " dense_1 (Dense)             (None, 3016)              153816    \n",
            "                                                                 \n",
            "=================================================================\n",
            "Total params: 196,414\n",
            "Trainable params: 196,414\n",
            "Non-trainable params: 0\n",
            "_________________________________________________________________\n"
          ]
        }
      ]
    },
    {
      "cell_type": "code",
      "source": [
        "model.fit(train_inputs,train_targets,epochs=100,verbose=1)"
      ],
      "metadata": {
        "colab": {
          "base_uri": "https://localhost:8080/"
        },
        "id": "dsGiWQunrxtN",
        "outputId": "7e5205ae-c9d9-4e67-c708-ffbac9138db1"
      },
      "execution_count": null,
      "outputs": [
        {
          "output_type": "stream",
          "name": "stdout",
          "text": [
            "Epoch 1/100\n",
            "802/802 [==============================] - 13s 7ms/step - loss: 6.4663 - accuracy: 0.0499\n",
            "Epoch 2/100\n",
            "802/802 [==============================] - 6s 7ms/step - loss: 6.1821 - accuracy: 0.0519\n",
            "Epoch 3/100\n",
            "802/802 [==============================] - 6s 7ms/step - loss: 6.1410 - accuracy: 0.0519\n",
            "Epoch 4/100\n",
            "802/802 [==============================] - 6s 7ms/step - loss: 6.0455 - accuracy: 0.0519\n",
            "Epoch 5/100\n",
            "802/802 [==============================] - 6s 7ms/step - loss: 5.9332 - accuracy: 0.0548\n",
            "Epoch 6/100\n",
            "802/802 [==============================] - 6s 7ms/step - loss: 5.7410 - accuracy: 0.0646\n",
            "Epoch 7/100\n",
            "802/802 [==============================] - 6s 7ms/step - loss: 5.5938 - accuracy: 0.0716\n",
            "Epoch 8/100\n",
            "802/802 [==============================] - 6s 7ms/step - loss: 5.4873 - accuracy: 0.0760\n",
            "Epoch 9/100\n",
            "802/802 [==============================] - 6s 7ms/step - loss: 5.3812 - accuracy: 0.0833\n",
            "Epoch 10/100\n",
            "802/802 [==============================] - 6s 7ms/step - loss: 5.2791 - accuracy: 0.0896\n",
            "Epoch 11/100\n",
            "802/802 [==============================] - 6s 7ms/step - loss: 5.1842 - accuracy: 0.0935\n",
            "Epoch 12/100\n",
            "802/802 [==============================] - 6s 7ms/step - loss: 5.0893 - accuracy: 0.1003\n",
            "Epoch 13/100\n",
            "802/802 [==============================] - 6s 7ms/step - loss: 4.9989 - accuracy: 0.1031\n",
            "Epoch 14/100\n",
            "802/802 [==============================] - 6s 7ms/step - loss: 4.9140 - accuracy: 0.1085\n",
            "Epoch 15/100\n",
            "802/802 [==============================] - 6s 7ms/step - loss: 4.8349 - accuracy: 0.1123\n",
            "Epoch 16/100\n",
            "802/802 [==============================] - 6s 7ms/step - loss: 4.7621 - accuracy: 0.1180\n",
            "Epoch 17/100\n",
            "802/802 [==============================] - 6s 7ms/step - loss: 4.6922 - accuracy: 0.1223\n",
            "Epoch 18/100\n",
            "802/802 [==============================] - 6s 7ms/step - loss: 4.6231 - accuracy: 0.1270\n",
            "Epoch 19/100\n",
            "802/802 [==============================] - 6s 7ms/step - loss: 4.5517 - accuracy: 0.1310\n",
            "Epoch 20/100\n",
            "802/802 [==============================] - 6s 7ms/step - loss: 4.4815 - accuracy: 0.1336\n",
            "Epoch 21/100\n",
            "802/802 [==============================] - 6s 7ms/step - loss: 4.4128 - accuracy: 0.1366\n",
            "Epoch 22/100\n",
            "802/802 [==============================] - 6s 7ms/step - loss: 4.3490 - accuracy: 0.1407\n",
            "Epoch 23/100\n",
            "802/802 [==============================] - 6s 7ms/step - loss: 4.2847 - accuracy: 0.1432\n",
            "Epoch 24/100\n",
            "802/802 [==============================] - 6s 7ms/step - loss: 4.2256 - accuracy: 0.1459\n",
            "Epoch 25/100\n",
            "802/802 [==============================] - 6s 7ms/step - loss: 4.1649 - accuracy: 0.1502\n",
            "Epoch 26/100\n",
            "802/802 [==============================] - 6s 7ms/step - loss: 4.1134 - accuracy: 0.1527\n",
            "Epoch 27/100\n",
            "802/802 [==============================] - 6s 7ms/step - loss: 4.0611 - accuracy: 0.1545\n",
            "Epoch 28/100\n",
            "802/802 [==============================] - 6s 7ms/step - loss: 4.0175 - accuracy: 0.1608\n",
            "Epoch 29/100\n",
            "802/802 [==============================] - 6s 7ms/step - loss: 3.9719 - accuracy: 0.1639\n",
            "Epoch 30/100\n",
            "802/802 [==============================] - 6s 7ms/step - loss: 3.9280 - accuracy: 0.1686\n",
            "Epoch 31/100\n",
            "802/802 [==============================] - 6s 7ms/step - loss: 3.8913 - accuracy: 0.1712\n",
            "Epoch 32/100\n",
            "802/802 [==============================] - 6s 7ms/step - loss: 3.8536 - accuracy: 0.1760\n",
            "Epoch 33/100\n",
            "802/802 [==============================] - 6s 7ms/step - loss: 3.8210 - accuracy: 0.1802\n",
            "Epoch 34/100\n",
            "802/802 [==============================] - 6s 7ms/step - loss: 3.7917 - accuracy: 0.1813\n",
            "Epoch 35/100\n",
            "802/802 [==============================] - 7s 9ms/step - loss: 3.7547 - accuracy: 0.1877\n",
            "Epoch 36/100\n",
            "802/802 [==============================] - 6s 7ms/step - loss: 3.7261 - accuracy: 0.1907\n",
            "Epoch 37/100\n",
            "802/802 [==============================] - 6s 7ms/step - loss: 3.6993 - accuracy: 0.1938\n",
            "Epoch 38/100\n",
            "802/802 [==============================] - 6s 8ms/step - loss: 3.6807 - accuracy: 0.1965\n",
            "Epoch 39/100\n",
            "802/802 [==============================] - 6s 7ms/step - loss: 3.6473 - accuracy: 0.2022\n",
            "Epoch 40/100\n",
            "802/802 [==============================] - 6s 7ms/step - loss: 3.6274 - accuracy: 0.2050\n",
            "Epoch 41/100\n",
            "802/802 [==============================] - 6s 7ms/step - loss: 3.6023 - accuracy: 0.2062\n",
            "Epoch 42/100\n",
            "802/802 [==============================] - 6s 7ms/step - loss: 3.5804 - accuracy: 0.2098\n",
            "Epoch 43/100\n",
            "802/802 [==============================] - 6s 7ms/step - loss: 3.5582 - accuracy: 0.2118\n",
            "Epoch 44/100\n",
            "802/802 [==============================] - 6s 7ms/step - loss: 3.5365 - accuracy: 0.2144\n",
            "Epoch 45/100\n",
            "802/802 [==============================] - 6s 7ms/step - loss: 3.5138 - accuracy: 0.2190\n",
            "Epoch 46/100\n",
            "802/802 [==============================] - 6s 7ms/step - loss: 3.4982 - accuracy: 0.2185\n",
            "Epoch 47/100\n",
            "802/802 [==============================] - 6s 7ms/step - loss: 3.4763 - accuracy: 0.2253\n",
            "Epoch 48/100\n",
            "802/802 [==============================] - 6s 8ms/step - loss: 3.4579 - accuracy: 0.2246\n",
            "Epoch 49/100\n",
            "802/802 [==============================] - 6s 7ms/step - loss: 3.4365 - accuracy: 0.2271\n",
            "Epoch 50/100\n",
            "802/802 [==============================] - 6s 7ms/step - loss: 3.4223 - accuracy: 0.2305\n",
            "Epoch 51/100\n",
            "802/802 [==============================] - 6s 7ms/step - loss: 3.4056 - accuracy: 0.2335\n",
            "Epoch 52/100\n",
            "802/802 [==============================] - 6s 7ms/step - loss: 3.3880 - accuracy: 0.2364\n",
            "Epoch 53/100\n",
            "802/802 [==============================] - 6s 7ms/step - loss: 3.3696 - accuracy: 0.2405\n",
            "Epoch 54/100\n",
            "802/802 [==============================] - 6s 7ms/step - loss: 3.3556 - accuracy: 0.2394\n",
            "Epoch 55/100\n",
            "802/802 [==============================] - 6s 7ms/step - loss: 3.3414 - accuracy: 0.2424\n",
            "Epoch 56/100\n",
            "802/802 [==============================] - 6s 7ms/step - loss: 3.3261 - accuracy: 0.2453\n",
            "Epoch 57/100\n",
            "802/802 [==============================] - 6s 7ms/step - loss: 3.3111 - accuracy: 0.2482\n",
            "Epoch 58/100\n",
            "802/802 [==============================] - 6s 7ms/step - loss: 3.2946 - accuracy: 0.2495\n",
            "Epoch 59/100\n",
            "802/802 [==============================] - 6s 7ms/step - loss: 3.2833 - accuracy: 0.2529\n",
            "Epoch 60/100\n",
            "802/802 [==============================] - 5s 7ms/step - loss: 3.2674 - accuracy: 0.2538\n",
            "Epoch 61/100\n",
            "802/802 [==============================] - 5s 7ms/step - loss: 3.2548 - accuracy: 0.2557\n",
            "Epoch 62/100\n",
            "802/802 [==============================] - 6s 7ms/step - loss: 3.2412 - accuracy: 0.2553\n",
            "Epoch 63/100\n",
            "802/802 [==============================] - 6s 7ms/step - loss: 3.2258 - accuracy: 0.2601\n",
            "Epoch 64/100\n",
            "802/802 [==============================] - 6s 7ms/step - loss: 3.2186 - accuracy: 0.2614\n",
            "Epoch 65/100\n",
            "802/802 [==============================] - 6s 7ms/step - loss: 3.2013 - accuracy: 0.2653\n",
            "Epoch 66/100\n",
            "802/802 [==============================] - 6s 7ms/step - loss: 3.1929 - accuracy: 0.2659\n",
            "Epoch 67/100\n",
            "802/802 [==============================] - 6s 7ms/step - loss: 3.1791 - accuracy: 0.2659\n",
            "Epoch 68/100\n",
            "802/802 [==============================] - 6s 7ms/step - loss: 3.1645 - accuracy: 0.2689\n",
            "Epoch 69/100\n",
            "802/802 [==============================] - 6s 7ms/step - loss: 3.1534 - accuracy: 0.2735\n",
            "Epoch 70/100\n",
            "802/802 [==============================] - 6s 7ms/step - loss: 3.1460 - accuracy: 0.2726\n",
            "Epoch 71/100\n",
            "802/802 [==============================] - 6s 7ms/step - loss: 3.1315 - accuracy: 0.2758\n",
            "Epoch 72/100\n",
            "802/802 [==============================] - 6s 7ms/step - loss: 3.1212 - accuracy: 0.2772\n",
            "Epoch 73/100\n",
            "802/802 [==============================] - 6s 7ms/step - loss: 3.1100 - accuracy: 0.2783\n",
            "Epoch 74/100\n",
            "802/802 [==============================] - 6s 7ms/step - loss: 3.0979 - accuracy: 0.2810\n",
            "Epoch 75/100\n",
            "802/802 [==============================] - 5s 7ms/step - loss: 3.0901 - accuracy: 0.2817\n",
            "Epoch 76/100\n",
            "802/802 [==============================] - 5s 7ms/step - loss: 3.0753 - accuracy: 0.2848\n",
            "Epoch 77/100\n",
            "802/802 [==============================] - 5s 7ms/step - loss: 3.0687 - accuracy: 0.2869\n",
            "Epoch 78/100\n",
            "802/802 [==============================] - 5s 7ms/step - loss: 3.0586 - accuracy: 0.2880\n",
            "Epoch 79/100\n",
            "802/802 [==============================] - 6s 7ms/step - loss: 3.0542 - accuracy: 0.2866\n",
            "Epoch 80/100\n",
            "802/802 [==============================] - 5s 7ms/step - loss: 3.0416 - accuracy: 0.2914\n",
            "Epoch 81/100\n",
            "802/802 [==============================] - 5s 7ms/step - loss: 3.0250 - accuracy: 0.2940\n",
            "Epoch 82/100\n",
            "802/802 [==============================] - 5s 7ms/step - loss: 3.0215 - accuracy: 0.2946\n",
            "Epoch 83/100\n",
            "802/802 [==============================] - 5s 7ms/step - loss: 3.0081 - accuracy: 0.2943\n",
            "Epoch 84/100\n",
            "802/802 [==============================] - 6s 7ms/step - loss: 3.0046 - accuracy: 0.2977\n",
            "Epoch 85/100\n",
            "802/802 [==============================] - 6s 7ms/step - loss: 2.9917 - accuracy: 0.2980\n",
            "Epoch 86/100\n",
            "802/802 [==============================] - 5s 7ms/step - loss: 2.9843 - accuracy: 0.3015\n",
            "Epoch 87/100\n",
            "802/802 [==============================] - 6s 8ms/step - loss: 2.9677 - accuracy: 0.3033\n",
            "Epoch 88/100\n",
            "802/802 [==============================] - 6s 7ms/step - loss: 2.9648 - accuracy: 0.3029\n",
            "Epoch 89/100\n",
            "802/802 [==============================] - 6s 7ms/step - loss: 2.9555 - accuracy: 0.3052\n",
            "Epoch 90/100\n",
            "802/802 [==============================] - 6s 7ms/step - loss: 2.9463 - accuracy: 0.3072\n",
            "Epoch 91/100\n",
            "802/802 [==============================] - 6s 7ms/step - loss: 2.9411 - accuracy: 0.3054\n",
            "Epoch 92/100\n",
            "802/802 [==============================] - 6s 7ms/step - loss: 2.9292 - accuracy: 0.3124\n",
            "Epoch 93/100\n",
            "802/802 [==============================] - 5s 7ms/step - loss: 2.9197 - accuracy: 0.3094\n",
            "Epoch 94/100\n",
            "802/802 [==============================] - 5s 7ms/step - loss: 2.9142 - accuracy: 0.3137\n",
            "Epoch 95/100\n",
            "802/802 [==============================] - 5s 7ms/step - loss: 2.9058 - accuracy: 0.3169\n",
            "Epoch 96/100\n",
            "802/802 [==============================] - 5s 7ms/step - loss: 2.8993 - accuracy: 0.3169\n",
            "Epoch 97/100\n",
            "802/802 [==============================] - 5s 7ms/step - loss: 2.8935 - accuracy: 0.3160\n",
            "Epoch 98/100\n",
            "802/802 [==============================] - 6s 7ms/step - loss: 2.8831 - accuracy: 0.3223\n",
            "Epoch 99/100\n",
            "802/802 [==============================] - 6s 7ms/step - loss: 2.8725 - accuracy: 0.3194\n",
            "Epoch 100/100\n",
            "802/802 [==============================] - 6s 7ms/step - loss: 2.8668 - accuracy: 0.3218\n"
          ]
        },
        {
          "output_type": "execute_result",
          "data": {
            "text/plain": [
              "<keras.callbacks.History at 0x7f2bbd488940>"
            ]
          },
          "metadata": {},
          "execution_count": 28
        }
      ]
    },
    {
      "cell_type": "code",
      "source": [
        "from keras.utils import pad_sequences"
      ],
      "metadata": {
        "id": "OqRsba9mzGj0"
      },
      "execution_count": null,
      "outputs": []
    },
    {
      "cell_type": "code",
      "source": [
        "input_text = 'We have learned'\n",
        "encoded_text = tokenizer.texts_to_sequences([input_text])[0]\n",
        "pad_encoded = pad_sequences([encoded_text], maxlen=seq_len, truncating='pre')\n",
        "print(encoded_text, pad_encoded)"
      ],
      "metadata": {
        "colab": {
          "base_uri": "https://localhost:8080/"
        },
        "id": "cSbrS-c7yofp",
        "outputId": "57496761-15e7-45f5-c482-2099065dc6ca"
      },
      "execution_count": null,
      "outputs": [
        {
          "output_type": "stream",
          "name": "stdout",
          "text": [
            "[85, 37, 613] [[ 85  37 613]]\n"
          ]
        }
      ]
    },
    {
      "cell_type": "code",
      "source": [
        "np.argmax(model.predict(pad_encoded))"
      ],
      "metadata": {
        "colab": {
          "base_uri": "https://localhost:8080/"
        },
        "id": "iYtld_9SyvSe",
        "outputId": "1257e26f-a075-4095-a19c-f91b87a41a6d"
      },
      "execution_count": null,
      "outputs": [
        {
          "output_type": "stream",
          "name": "stdout",
          "text": [
            "1/1 [==============================] - 0s 15ms/step\n"
          ]
        },
        {
          "output_type": "execute_result",
          "data": {
            "text/plain": [
              "38"
            ]
          },
          "metadata": {},
          "execution_count": 37
        }
      ]
    },
    {
      "cell_type": "code",
      "source": [
        "tokenizer.index_word[38]"
      ],
      "metadata": {
        "colab": {
          "base_uri": "https://localhost:8080/",
          "height": 35
        },
        "id": "FM4OoFCgz5zS",
        "outputId": "7ddd48d8-f949-4eed-e235-914fbf18f81a"
      },
      "execution_count": null,
      "outputs": [
        {
          "output_type": "execute_result",
          "data": {
            "text/plain": [
              "'there'"
            ],
            "application/vnd.google.colaboratory.intrinsic+json": {
              "type": "string"
            }
          },
          "metadata": {},
          "execution_count": 39
        }
      ]
    },
    {
      "cell_type": "code",
      "source": [
        "for i in (model.predict(pad_encoded)[0]).argsort()[-3:][::-1]:\n",
        "  pred_word = tokenizer.index_word[i]\n",
        "  print(\"Next word suggestion:\",pred_word)"
      ],
      "metadata": {
        "colab": {
          "base_uri": "https://localhost:8080/"
        },
        "id": "IRfZGRFB0Ltt",
        "outputId": "7e8cec88-e717-46e3-897f-949c08ad6798"
      },
      "execution_count": null,
      "outputs": [
        {
          "output_type": "stream",
          "name": "stdout",
          "text": [
            "1/1 [==============================] - 0s 16ms/step\n",
            "Next word suggestion: there\n",
            "Next word suggestion: course\n",
            "Next word suggestion: the\n"
          ]
        }
      ]
    }
  ]
}