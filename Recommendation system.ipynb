{
 "cells": [
  {
   "cell_type": "code",
   "execution_count": null,
   "metadata": {
    "colab": {
     "base_uri": "https://localhost:8080/"
    },
    "id": "jzhGHp7qmjfi",
    "outputId": "414bf4c1-1db9-44f4-b4cf-5dd0263252aa"
   },
   "outputs": [],
   "source": [
    "conda install -c conda-forge/label/cf202003 scikit-surprise"
   ]
  },
  {
   "cell_type": "code",
   "execution_count": null,
   "metadata": {
    "id": "eZJRanIDmUJM"
   },
   "outputs": [],
   "source": [
    "import pandas as pd\n",
    "from surprise import Dataset\n",
    "from surprise import Reader"
   ]
  },
  {
   "cell_type": "code",
   "execution_count": null,
   "metadata": {
    "id": "QOVtQGdNmd6k"
   },
   "outputs": [],
   "source": [
    "ratings_dict = {\n",
    "    \"item\": [1, 2, 1, 2, 1, 2, 1, 2, 1],\n",
    "    \"user\": ['A', 'A', 'B', 'B', 'C', 'C', 'D', 'D', 'E'],\n",
    "    \"rating\": [1, 2, 2, 4, 2.5, 4, 4.5, 5, 3],\n",
    "}\n",
    "\n",
    "df = pd.DataFrame(ratings_dict)"
   ]
  },
  {
   "cell_type": "code",
   "execution_count": null,
   "metadata": {
    "colab": {
     "base_uri": "https://localhost:8080/",
     "height": 331
    },
    "id": "fth9LY2Gm6in",
    "outputId": "d9ad4e5f-ccd3-4133-eff2-358302d5485d"
   },
   "outputs": [],
   "source": [
    "df"
   ]
  },
  {
   "cell_type": "code",
   "execution_count": null,
   "metadata": {
    "id": "aMn6xSIzoQ-k"
   },
   "outputs": [],
   "source": [
    "reader = Reader(rating_scale=(1, 5))\n",
    "\n",
    "data = Dataset.load_from_df(df[[\"user\", \"item\", \"rating\"]], reader)"
   ]
  },
  {
   "cell_type": "code",
   "execution_count": null,
   "metadata": {
    "id": "ID0H1ow-o1B6"
   },
   "outputs": [],
   "source": [
    "from surprise import KNNWithMeans"
   ]
  },
  {
   "cell_type": "code",
   "execution_count": null,
   "metadata": {
    "id": "60mh6I6opJg0"
   },
   "outputs": [],
   "source": [
    "sim_options = {\n",
    "    \"name\": \"cosine\",\n",
    "}\n",
    "algo = KNNWithMeans(k = 3, sim_options=sim_options)"
   ]
  },
  {
   "cell_type": "code",
   "execution_count": null,
   "metadata": {
    "colab": {
     "base_uri": "https://localhost:8080/"
    },
    "id": "dz-hoDEGp3rR",
    "outputId": "9c403e8c-01f9-44a2-978b-9f2a73a0d32e"
   },
   "outputs": [],
   "source": [
    "trainingSet = data.build_full_trainset()\n",
    "\n",
    "algo.fit(trainingSet)"
   ]
  },
  {
   "cell_type": "code",
   "execution_count": null,
   "metadata": {
    "colab": {
     "base_uri": "https://localhost:8080/"
    },
    "id": "eCJRE2shqGW3",
    "outputId": "ea123965-411b-40c8-9be1-d6faeb460913"
   },
   "outputs": [],
   "source": [
    "prediction = algo.predict('E', 2)\n",
    "prediction.est"
   ]
  },
  {
   "cell_type": "markdown",
   "metadata": {
    "id": "PJT9J-Aorq_5"
   },
   "source": [
    "# **Movie Lens**"
   ]
  },
  {
   "cell_type": "code",
   "execution_count": null,
   "metadata": {
    "id": "uxqZMg9lrqpu"
   },
   "outputs": [],
   "source": [
    "import numpy as np\n",
    "\n",
    "import sklearn\n"
   ]
  },
  {
   "cell_type": "code",
   "execution_count": null,
   "metadata": {
    "colab": {
     "base_uri": "https://localhost:8080/",
     "height": 206
    },
    "id": "0mdrdx1fr2xK",
    "outputId": "d80f522c-c5f2-4f51-881f-ac9c46c248e2"
   },
   "outputs": [],
   "source": [
    "ratings = pd.read_csv(\"https://s3-us-west-2.amazonaws.com/recommender-tutorial/ratings.csv\")\n",
    "ratings.head()"
   ]
  },
  {
   "cell_type": "code",
   "execution_count": null,
   "metadata": {
    "colab": {
     "base_uri": "https://localhost:8080/",
     "height": 206
    },
    "id": "Nkx5YF1gsBJy",
    "outputId": "7a03aac6-e377-4135-e3e1-df5429489150"
   },
   "outputs": [],
   "source": [
    "movies = pd.read_csv(\"https://s3-us-west-2.amazonaws.com/recommender-tutorial/movies.csv\")\n",
    "movies.head()"
   ]
  },
  {
   "cell_type": "code",
   "execution_count": null,
   "metadata": {
    "colab": {
     "base_uri": "https://localhost:8080/",
     "height": 206
    },
    "id": "BV6UGiN-4iY3",
    "outputId": "45e11eb6-89f8-4e93-b0cc-51d624fba9bd"
   },
   "outputs": [],
   "source": [
    "movies.tail()"
   ]
  },
  {
   "cell_type": "code",
   "execution_count": null,
   "metadata": {
    "colab": {
     "base_uri": "https://localhost:8080/"
    },
    "id": "nIe9ZI59vHXy",
    "outputId": "99ecc81e-0cfd-4ea5-838b-2b4c999141c2"
   },
   "outputs": [],
   "source": [
    "n_ratings = len(ratings)\n",
    "n_ratings"
   ]
  },
  {
   "cell_type": "code",
   "execution_count": null,
   "metadata": {
    "colab": {
     "base_uri": "https://localhost:8080/"
    },
    "id": "lfwScXj7vSQj",
    "outputId": "8271d00a-29f0-4997-bb3b-37f954669e3b"
   },
   "outputs": [],
   "source": [
    "n_movies = len(ratings['movieId'].unique())\n",
    "n_movies"
   ]
  },
  {
   "cell_type": "code",
   "execution_count": null,
   "metadata": {
    "colab": {
     "base_uri": "https://localhost:8080/"
    },
    "id": "tJ0ioiPlvwDa",
    "outputId": "127b190f-4443-4fcb-e4d2-eedec8dc6b04"
   },
   "outputs": [],
   "source": [
    "n_users = len(ratings['userId'].unique())\n",
    "n_users"
   ]
  },
  {
   "cell_type": "code",
   "execution_count": null,
   "metadata": {
    "id": "MJW5vYNawOYb"
   },
   "outputs": [],
   "source": [
    "\n",
    "mean_rating = ratings.groupby('movieId')[['rating']].mean()"
   ]
  },
  {
   "cell_type": "code",
   "execution_count": null,
   "metadata": {
    "colab": {
     "base_uri": "https://localhost:8080/",
     "height": 237
    },
    "id": "KvGBZsPXxORJ",
    "outputId": "fccd0719-bb32-42b8-a4a9-44e9fec7fe93"
   },
   "outputs": [],
   "source": [
    "mean_rating.head()"
   ]
  },
  {
   "cell_type": "code",
   "execution_count": null,
   "metadata": {
    "id": "dFOBvvj8xbrB"
   },
   "outputs": [],
   "source": [
    "highest_rated = mean_rating['rating'].idxmax()"
   ]
  },
  {
   "cell_type": "code",
   "execution_count": null,
   "metadata": {
    "colab": {
     "base_uri": "https://localhost:8080/",
     "height": 81
    },
    "id": "8D-3icaSxs2v",
    "outputId": "d79762d5-dbce-4f85-b002-9403759fca7a"
   },
   "outputs": [],
   "source": [
    "movies.loc[movies['movieId'] == highest_rated]"
   ]
  },
  {
   "cell_type": "code",
   "execution_count": null,
   "metadata": {
    "colab": {
     "base_uri": "https://localhost:8080/",
     "height": 81
    },
    "id": "fo8K6Qq-yG0W",
    "outputId": "b7457b6d-be6b-4a11-c15b-923e4060303e"
   },
   "outputs": [],
   "source": [
    "# Lowest rated movies\n",
    "lowest_rated = mean_rating['rating'].idxmin()\n",
    "movies.loc[movies['movieId'] == lowest_rated]"
   ]
  },
  {
   "cell_type": "code",
   "execution_count": null,
   "metadata": {
    "colab": {
     "base_uri": "https://localhost:8080/",
     "height": 112
    },
    "id": "hSjSFzF5zZzP",
    "outputId": "ba638148-8737-4781-abbc-3c6cba53ae1a"
   },
   "outputs": [],
   "source": [
    "ratings[ratings['movieId']==highest_rated]"
   ]
  },
  {
   "cell_type": "code",
   "execution_count": null,
   "metadata": {
    "colab": {
     "base_uri": "https://localhost:8080/",
     "height": 81
    },
    "id": "6DRnQSoezk4H",
    "outputId": "08911962-4d8e-4ca6-cf45-34fd3ad1d088"
   },
   "outputs": [],
   "source": [
    "ratings[ratings['movieId']==lowest_rated]"
   ]
  },
  {
   "cell_type": "code",
   "execution_count": null,
   "metadata": {
    "id": "dt4egnZV0S89"
   },
   "outputs": [],
   "source": [
    "N = len(ratings['userId'].unique())\n",
    "M = len(ratings['movieId'].unique())"
   ]
  },
  {
   "cell_type": "code",
   "execution_count": null,
   "metadata": {
    "id": "ri_ljX4p22Me"
   },
   "outputs": [],
   "source": [
    "from scipy.sparse import csr_matrix"
   ]
  },
  {
   "cell_type": "code",
   "execution_count": null,
   "metadata": {
    "id": "2_ac0x7s4Djr"
   },
   "outputs": [],
   "source": [
    "# Map Ids to indices\n",
    "user_mapper = dict(zip(np.unique(ratings[\"userId\"]), list(range(N))))\n",
    "movie_mapper = dict(zip(np.unique(ratings[\"movieId\"]), list(range(M))))\n",
    "\n",
    "# Map indices to IDs\n",
    "user_inv_mapper = dict(zip(list(range(N)), np.unique(ratings[\"userId\"])))\n",
    "movie_inv_mapper = dict(zip(list(range(M)), np.unique(ratings[\"movieId\"])))\n",
    "\n",
    "user_index = [user_mapper[i] for i in ratings['userId']]\n",
    "movie_index = [movie_mapper[i] for i in ratings['movieId']]\n",
    "X = csr_matrix((ratings[\"rating\"], (movie_index, user_index)), shape=(M, N))"
   ]
  },
  {
   "cell_type": "code",
   "execution_count": null,
   "metadata": {
    "colab": {
     "base_uri": "https://localhost:8080/"
    },
    "id": "UVMVYKZZ5xLL",
    "outputId": "0bde8708-b68e-4d8b-e811-00713a3dc8c9"
   },
   "outputs": [],
   "source": [
    "X.shape"
   ]
  },
  {
   "cell_type": "code",
   "execution_count": null,
   "metadata": {
    "id": "wNY_Z39q6Dxa"
   },
   "outputs": [],
   "source": [
    "from sklearn.neighbors import NearestNeighbors"
   ]
  },
  {
   "cell_type": "code",
   "execution_count": null,
   "metadata": {
    "id": "WTbvw6Q76Kte"
   },
   "outputs": [],
   "source": [
    "def find_similar_movies(movie_id, X, k):\n",
    "      \n",
    "    neighbour_ids = []\n",
    "      \n",
    "    movie_ind = movie_mapper[movie_id]\n",
    "    movie_vec = X[movie_ind]\n",
    "    k+=1\n",
    "    kNN = NearestNeighbors(n_neighbors=k, algorithm=\"brute\", metric='cosine')\n",
    "    kNN.fit(X)\n",
    "\n",
    "    movie_vec = movie_vec.reshape(1,-1)\n",
    "    neighbour = kNN.kneighbors(movie_vec, return_distance=False)\n",
    "    for i in range(0,k):\n",
    "        n = neighbour.item(i)\n",
    "        neighbour_ids.append(movie_inv_mapper[n])\n",
    "    neighbour_ids.pop(0)\n",
    "    return neighbour_ids"
   ]
  },
  {
   "cell_type": "code",
   "execution_count": null,
   "metadata": {
    "colab": {
     "base_uri": "https://localhost:8080/"
    },
    "id": "sYhPTYlB8j9D",
    "outputId": "0a0891aa-5dc3-4b49-e85e-38ec6a8d6c58"
   },
   "outputs": [],
   "source": [
    "movie_titles = dict(zip(movies['movieId'], movies['title']))\n",
    "  \n",
    "movie_id = 3\n",
    "  \n",
    "similar_ids = find_similar_movies(movie_id, X, k=10)\n",
    "movie_title = movie_titles[movie_id]\n",
    "  \n",
    "print(f\"Since you watched {movie_title}\")\n",
    "for i in similar_ids:\n",
    "    print(movie_titles[i])"
   ]
  }
 ],
 "metadata": {
  "colab": {
   "provenance": []
  },
  "kernelspec": {
   "display_name": "Python 3 (ipykernel)",
   "language": "python",
   "name": "python3"
  },
  "language_info": {
   "codemirror_mode": {
    "name": "ipython",
    "version": 3
   },
   "file_extension": ".py",
   "mimetype": "text/x-python",
   "name": "python",
   "nbconvert_exporter": "python",
   "pygments_lexer": "ipython3",
   "version": "3.9.7"
  }
 },
 "nbformat": 4,
 "nbformat_minor": 1
}
